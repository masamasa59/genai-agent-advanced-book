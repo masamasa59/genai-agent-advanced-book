{
 "cells": [
  {
   "cell_type": "markdown",
   "metadata": {},
   "source": [
    "# MACRS Runner\n",
    "\n",
    "このノートブックは、`src/macrs/agent.py` に実装された MACRS クラスを用いてエージェントを実行します。"
   ]
  },
  {
   "cell_type": "code",
   "execution_count": null,
   "metadata": {},
   "outputs": [],
   "source": [
    "# 必要なモジュールのインポート\n",
    "import sys\n",
    "import os\n",
    "\n",
    "# プロジェクトルートをパスに追加（必要に応じて調整してください）\n",
    "sys.path.append(os.path.join(os.getcwd(), '../src/macrs'))\n",
    "\n",
    "from agent import MACRS\n",
    "\n",
    "# MACRSのエージェントを実行\n",
    "macrs = MACRS()\n",
    "result = await macrs.run_agent()"
   ]
  },
  {
   "cell_type": "code",
   "execution_count": null,
   "metadata": {},
   "outputs": [],
   "source": [
    "# 注意: このノートブックでは、`exit`と入力することで会話が終了します。"
   ]
  }
 ],
 "metadata": {
  "kernelspec": {
   "display_name": ".venv",
   "language": "python",
   "name": "python3"
  },
  "language_info": {
   "codemirror_mode": {
    "name": "ipython",
    "version": 3
   },
   "file_extension": ".py",
   "mimetype": "text/x-python",
   "name": "python",
   "nbconvert_exporter": "python",
   "pygments_lexer": "ipython3",
   "version": "3.11.8"
  }
 },
 "nbformat": 4,
 "nbformat_minor": 2
}

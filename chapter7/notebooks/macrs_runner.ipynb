{
 "cells": [
  {
   "cell_type": "markdown",
   "metadata": {},
   "source": [
    "# MACRS Runner\n",
    "\n",
    "このノートブックは、`src/macrs/agent.py` に実装された MACRS クラスを用いてエージェントを実行します。"
   ]
  },
  {
   "cell_type": "code",
   "execution_count": null,
   "metadata": {},
   "outputs": [
    {
     "ename": "ModuleNotFoundError",
     "evalue": "No module named 'agent'",
     "output_type": "error",
     "traceback": [
      "\u001b[31m---------------------------------------------------------------------------\u001b[39m",
      "\u001b[31mModuleNotFoundError\u001b[39m                       Traceback (most recent call last)",
      "\u001b[36mCell\u001b[39m\u001b[36m \u001b[39m\u001b[32mIn[1]\u001b[39m\u001b[32m, line 1\u001b[39m\n\u001b[32m----> \u001b[39m\u001b[32m1\u001b[39m \u001b[38;5;28;01mfrom\u001b[39;00m\u001b[38;5;250m \u001b[39m\u001b[34;01magent\u001b[39;00m\u001b[38;5;250m \u001b[39m\u001b[38;5;28;01mimport\u001b[39;00m MACRS\n\u001b[32m      3\u001b[39m \u001b[38;5;66;03m# MACRSのエージェントを実行\u001b[39;00m\n\u001b[32m      4\u001b[39m macrs = MACRS()\n",
      "\u001b[31mModuleNotFoundError\u001b[39m: No module named 'agent'"
     ]
    }
   ],
   "source": [
    "# 必要なモジュールのインポート\n",
    "import sys\n",
    "import os\n",
    "\n",
    "# プロジェクトルートをパスに追加\n",
    "sys.path.append(os.path.join(os.getcwd(), '../src/macrs'))\n",
    "\n",
    "from agent import MACRS\n",
    "\n",
    "# MACRSのエージェントを実行\n",
    "macrs = MACRS()\n",
    "result = await macrs.run_agent()"
   ]
  },
  {
   "cell_type": "code",
   "execution_count": null,
   "metadata": {},
   "outputs": [],
   "source": [
    "# 注意: このノートブックでは、`exit`と入力することで会話が終了します。"
   ]
  }
 ],
 "metadata": {
  "kernelspec": {
   "display_name": ".venv",
   "language": "python",
   "name": "python3"
  },
  "language_info": {
   "codemirror_mode": {
    "name": "ipython",
    "version": 3
   },
   "file_extension": ".py",
   "mimetype": "text/x-python",
   "name": "python",
   "nbconvert_exporter": "python",
   "pygments_lexer": "ipython3",
   "version": "3.11.8"
  }
 },
 "nbformat": 4,
 "nbformat_minor": 2
}

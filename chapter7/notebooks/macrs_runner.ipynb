{
 "cells": [
  {
   "cell_type": "markdown",
   "metadata": {},
   "source": [
    "# MACRS Runner\n",
    "\n",
    "このノートブックは、`src/macrs/agent.py` に実装された MACRS クラスを用いてエージェントを実行します。"
   ]
  },
  {
   "cell_type": "code",
   "execution_count": null,
   "metadata": {},
   "outputs": [
    {
     "name": "stderr",
     "output_type": "stream",
     "text": [
      "2025-02-25 03:15:26,039 - custom_logger - DEBUG - デバッグレベルのログが出力されます。\n"
     ]
    },
    {
     "name": "stdout",
     "output_type": "stream",
     "text": [
      "タスク管理エージェントへようこそ！操作を開始してください（終了するには 'exit' と入力してください）。\n"
     ]
    },
    {
     "name": "stderr",
     "output_type": "stream",
     "text": [
      "2025-02-25 03:15:28,465 - agent - INFO - ユーザー : こんにちは\n",
      "2025-02-25 03:15:37,150 - agent - INFO - 選択されたエージェント: ChitChatAgent\n",
      "2025-02-25 03:16:09,054 - agent - INFO - AIエージェント (雑談) : こんにちは！今日はどんなことをお話ししましょうか？\n",
      "2025-02-25 03:16:22,407 - agent - INFO - ユーザー : 生成AIエージェントについて学びたいと思っています。\n",
      "2025-02-25 03:16:52,802 - agent - INFO - 選択されたエージェント: QuestionAgent\n",
      "2025-02-25 03:17:40,240 - agent - INFO - AIエージェント (質問) : 生成AIエージェントについて学びたいということですが、具体的にどのような情報をお探しですか？例えば、業務効率化の成功事例や最新情報、他のAIツールとの比較など、興味のあるトピックを教えてください。\n",
      "2025-02-25 03:17:57,260 - agent - INFO - ユーザー : ビジネス活用事例が知りたいです。\n",
      "2025-02-25 03:18:38,083 - agent - INFO - 選択されたエージェント: RecommendationAgent\n",
      "2025-02-25 03:19:13,143 - agent - INFO - AIエージェント (レコメンド) : それでは、生成AIエージェントのビジネス活用事例についてのコンテンツをおすすめします。こちらのブログ記事をご覧ください：\n",
      "\n",
      "- **コンテンツタイトル**: 生成AIエージェント活用事例：業務効率化の成功ストーリー\n",
      "- **コンテンツ概要**: LinkedInやTwitterでシェアするためのブログ記事。生成AIエージェントを活用して業務効率化を実現した企業の成功事例を紹介し、ビジネスパーソンに興味を持たせる。\n",
      "- **URL**: [https://www.example1.com](https://www.example1.com)\n",
      "\n",
      "このコンテンツでは、生成AIエージェントを活用した具体的な成功事例を知ることができます。ぜひご覧ください！\n",
      "2025-02-25 03:19:47,723 - agent - INFO - ユーザー : ありがとうございます。講座についての情報がありますか？\n",
      "2025-02-25 03:20:23,758 - agent - INFO - 選択されたエージェント: RecommendationAgent\n",
      "2025-02-25 03:21:21,023 - agent - INFO - AIエージェント (レコメンド) : 生成AIエージェントの講座についての情報をお探しですね。それでは、講座に関するプロモーションメールをおすすめします。こちらをご覧ください：\n",
      "\n",
      "- **コンテンツタイトル**: 今だけの特典！生成AIエージェント実践講座をお得に購入\n",
      "- **コンテンツ概要**: 初回購入割引や追加リソースの提供を含むプロモーションメール。ターゲットに購入を促すための特典情報を提供。\n",
      "- **URL**: [https://www.example4.com](https://www.example4.com)\n",
      "\n",
      "このプロモーションメールでは、生成AIエージェントの実践講座をお得に購入するための特典情報が提供されています。ぜひチェックしてみてください！\n",
      "2025-02-25 03:21:52,537 - agent - INFO - ユーザー : exit\n"
     ]
    },
    {
     "name": "stdout",
     "output_type": "stream",
     "text": [
      "対話を終了します。ありがとうございました！\n"
     ]
    },
    {
     "name": "stderr",
     "output_type": "stream",
     "text": [
      "2025-02-25 03:22:02,427 - agent - INFO - 選択されたエージェント: RecommendationAgent\n",
      "2025-02-25 03:23:03,563 - agent - INFO - AIエージェント (レコメンド) : ユーザーとの過去の会話履歴を考慮すると、生成AIエージェントの講座に興味を持たれているようですね。講座を購入された後のサポートや交流の場についても興味があるかもしれません。そこで、購入後の行動フェーズに関連するコンテンツをおすすめします。\n",
      "\n",
      "- **コンテンツタイトル**: 受講者同士の交流を深める：生成AIエージェントコミュニティ\n",
      "- **コンテンツ概要**: 受講者が交流できるコミュニティフォーラム。経験や知識を共有し、業務効率化のアイデアを広げる場を提供。\n",
      "- **URL**: [https://www.example5.com](https://www.example5.com)\n",
      "\n",
      "このコミュニティフォーラムでは、他の受講者と交流し、生成AIエージェントの活用方法についてさらに深く学ぶことができます。ぜひご参加ください！\n"
     ]
    },
    {
     "name": "stdout",
     "output_type": "stream",
     "text": [
      "対話を終了します。ありがとうございました！\n",
      "最終状態:\n",
      "None\n"
     ]
    }
   ],
   "source": [
    "# 必要なモジュールのインポート\n",
    "import sys\n",
    "import os\n",
    "\n",
    "# プロジェクトルートをパスに追加（必要に応じて調整してください）\n",
    "sys.path.append(os.path.join(os.getcwd(), '../src/macrs'))\n",
    "\n",
    "from agent import MACRS\n",
    "\n",
    "# MACRSのエージェントを実行\n",
    "macrs = MACRS()\n",
    "result = await macrs.run_agent()\n",
    "print(\"最終状態:\")\n",
    "print(result)"
   ]
  },
  {
   "cell_type": "code",
   "execution_count": null,
   "metadata": {},
   "outputs": [
    {
     "name": "stdout",
     "output_type": "stream",
     "text": [
      "タスク管理エージェントへようこそ！操作を開始してください（終了するには 'exit' と入力してください）。\n"
     ]
    }
   ],
   "source": [
    "import sys\n",
    "import os\n",
    "\n",
    "# プロジェクトルートをパスに追加（必要に応じて調整してください）\n",
    "sys.path.append(os.path.join(os.getcwd(), '../src/macrs'))\n",
    "\n",
    "from agent import MACRS\n",
    "\n",
    "# MACRSのエージェントを実行\n",
    "macrs = MACRS()\n",
    "result = await macrs.run_agent()\n",
    "print(\"最終状態:\")\n",
    "print(result)"
   ]
  },
  {
   "cell_type": "code",
   "execution_count": null,
   "metadata": {},
   "outputs": [
    {
     "data": {
      "text/plain": [
       "'gpt-4o-mini_2024-07-18_global'"
      ]
     },
     "execution_count": 2,
     "metadata": {},
     "output_type": "execute_result"
    }
   ],
   "source": [
    "import os\n",
    "from dotenv import load_dotenv\n",
    "\n",
    "load_dotenv()\n",
    "\n",
    "os.environ.get(\"AZURE_OPENAI_DEPLOYMENT_NAME_MINI\")"
   ]
  },
  {
   "cell_type": "code",
   "execution_count": null,
   "metadata": {},
   "outputs": [],
   "source": []
  }
 ],
 "metadata": {
  "kernelspec": {
   "display_name": ".venv",
   "language": "python",
   "name": "python3"
  },
  "language_info": {
   "codemirror_mode": {
    "name": "ipython",
    "version": 3
   },
   "file_extension": ".py",
   "mimetype": "text/x-python",
   "name": "python",
   "nbconvert_exporter": "python",
   "pygments_lexer": "ipython3",
   "version": "3.11.8"
  }
 },
 "nbformat": 4,
 "nbformat_minor": 2
}

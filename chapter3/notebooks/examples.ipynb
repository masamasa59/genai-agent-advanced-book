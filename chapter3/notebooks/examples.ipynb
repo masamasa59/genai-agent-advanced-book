{
 "cells": [
  {
   "cell_type": "markdown",
   "metadata": {},
   "source": [
    "# 第3章 サンプルコード\n",
    "\n",
    "本ノートブックは「生成AIエージェント実践入門」第3章のサンプルコードです。\n",
    "\n",
    "**環境セットアップについては、プロジェクトルートの `README.md` を参照してください（Python 3.12を使用します）。**"
   ]
  },
  {
   "cell_type": "code",
   "execution_count": 2,
   "metadata": {},
   "outputs": [],
   "source": [
    "# 環境変数の読み込み\n",
    "import os\n",
    "\n",
    "# APIキーが設定されているか確認\n",
    "if os.getenv(\"OPENAI_API_KEY\") is None:\n",
    "    print(\n",
    "        \"警告: OPENAI_API_KEYが設定されていません。プロジェクトルートのREADME.mdを参照し、環境設定を行ってください。\"\n",
    "    )"
   ]
  },
  {
   "cell_type": "code",
   "execution_count": 3,
   "metadata": {},
   "outputs": [],
   "source": [
    "# 必要なライブラリのインポート\n",
    "# このNotebookでは必要になった際に都度importします。\n",
    "\n",
    "# OpenAI関連\n",
    "from openai import OpenAI\n",
    "# from openai import AzureOpenAI  # Azure OpenAIを使用する場合\n",
    "\n",
    "# クライアントを定義\n",
    "client = OpenAI(api_key=os.getenv(\"OPENAI_API_KEY\"))\n",
    "\n",
    "# クライアントを定義（Azureの場合）\n",
    "# client = AzureOpenAI(\n",
    "#    api_key=os.getenv(\"AZURE_OPENAI_API_KEY\"),\n",
    "#    api_version=os.getenv(\"AZURE_OPENAI_API_VERSION\"),\n",
    "#    azure_endpoint=os.getenv(\"AZURE_OPENAI_ENDPOINT\")\n",
    "# )"
   ]
  },
  {
   "cell_type": "markdown",
   "metadata": {},
   "source": [
    "3.2 OpenAI  APIの基本"
   ]
  },
  {
   "cell_type": "markdown",
   "metadata": {},
   "source": [
    "3.2.2 OpenAI APIの使い方"
   ]
  },
  {
   "cell_type": "markdown",
   "metadata": {},
   "source": [
    "基本的なコード例"
   ]
  },
  {
   "cell_type": "code",
   "execution_count": null,
   "metadata": {},
   "outputs": [],
   "source": [
    "# from openai import OpenAI\n",
    "\n",
    "# クライアントを定義\n",
    "# client = OpenAI(api_key=\"ここにAPIキーを入れます\")\n",
    "\n",
    "# Chat Completion APIの呼び出し例\n",
    "response = client.chat.completions.create(\n",
    "    model=\"gpt-4o\",\n",
    "    messages=[{\"role\": \"user\", \"content\": \"こんにちは、今日はどんな天気ですか？\"}],\n",
    ")\n",
    "\n",
    "# 応答内容を出力\n",
    "print(\"Response:\", response.choices[0].message.content)"
   ]
  },
  {
   "cell_type": "markdown",
   "metadata": {},
   "source": [
    "消費されたトークン数の確認"
   ]
  },
  {
   "cell_type": "code",
   "execution_count": null,
   "metadata": {},
   "outputs": [],
   "source": [
    "# 消費されたトークン数の表示\n",
    "tokens_used = response.usage\n",
    "print(\"Prompt Tokens:\", tokens_used.prompt_tokens)\n",
    "print(\"Completion Tokens:\", tokens_used.completion_tokens)\n",
    "print(\"Total Tokens:\", tokens_used.total_tokens)\n",
    "print(\"Completion_tokens_details:\", tokens_used.completion_tokens_details)\n",
    "print(\"Prompt_tokens_details:\", tokens_used.prompt_tokens_details)"
   ]
  },
  {
   "cell_type": "markdown",
   "metadata": {},
   "source": [
    "3.2.5 構造化出力（Structured Outputs）"
   ]
  },
  {
   "cell_type": "markdown",
   "metadata": {},
   "source": [
    "jsonモードの設定例"
   ]
  },
  {
   "cell_type": "code",
   "execution_count": null,
   "metadata": {},
   "outputs": [],
   "source": [
    "response = client.chat.completions.create(\n",
    "    model=\"gpt-4o\",\n",
    "    response_format={\"type\": \"json_object\"},\n",
    "    messages=[\n",
    "        {\n",
    "            \"role\": \"system\",\n",
    "            \"content\": \"あなたは JSON を出力するように設計された便利なアシスタントです。\",\n",
    "        },\n",
    "        {\"role\": \"assistant\", \"content\": '{\"winner\": String}'},\n",
    "        {\"role\": \"user\", \"content\": \"2020 年のワールド シリーズの優勝者は誰ですか?\"},\n",
    "    ],\n",
    ")\n",
    "\n",
    "response.choices[0].message.content\n",
    "\n",
    "# 出力例\n",
    "# '{\"year\": 2020, \"winner\": \"Los Angeles Dodgers\"}'"
   ]
  },
  {
   "cell_type": "markdown",
   "metadata": {},
   "source": [
    "Structured Outputsの実行例"
   ]
  },
  {
   "cell_type": "code",
   "execution_count": null,
   "metadata": {},
   "outputs": [],
   "source": [
    "from pydantic import BaseModel\n",
    "\n",
    "\n",
    "# Pydanticモデルを定義\n",
    "class Recipe(BaseModel):\n",
    "    name: str\n",
    "    servings: int\n",
    "    ingredients: list[str]\n",
    "    steps: list[str]\n",
    "\n",
    "\n",
    "# Structured Outputsに対応するPydanticモデルを指定して呼び出し\n",
    "response = client.beta.chat.completions.parse(\n",
    "    model=\"gpt-4o\",\n",
    "    messages=[\n",
    "        {\"role\": \"user\", \"content\": \"トマトソースパスタのレシピを教えてください\"}\n",
    "    ],\n",
    "    temperature=0,\n",
    "    response_format=Recipe,\n",
    ")\n",
    "# 生成されたレシピ情報の表示\n",
    "recipe = response.choices[0].message.parsed\n",
    "\n",
    "print(\"Recipe Name:\", recipe.name)\n",
    "print(\"Servings:\", recipe.servings)\n",
    "print(\"Ingredients:\", recipe.ingredients)\n",
    "print(\"Steps:\", recipe.steps)"
   ]
  },
  {
   "cell_type": "markdown",
   "metadata": {},
   "source": [
    "3.3 Function callingの活用方法"
   ]
  },
  {
   "cell_type": "markdown",
   "metadata": {},
   "source": [
    "3.3.1 Function callingの使い方"
   ]
  },
  {
   "cell_type": "code",
   "execution_count": null,
   "metadata": {},
   "outputs": [],
   "source": [
    "import json\n",
    "\n",
    "\n",
    "# 天気情報を取得するダミー関数\n",
    "def get_weather(location):\n",
    "    # 実際のAPI呼び出し部分を簡略化\n",
    "    weather_info = {\n",
    "        \"Tokyo\": \"晴れ、気温25度\",\n",
    "        \"Osaka\": \"曇り、気温22度\",\n",
    "        \"Kyoto\": \"雨、気温18度\",\n",
    "    }\n",
    "    return weather_info.get(location, \"天気情報が見つかりません\")\n",
    "\n",
    "\n",
    "# 初回のユーザーメッセージ\n",
    "messages = [{\"role\": \"user\", \"content\": \"東京の天気を教えてください\"}]\n",
    "\n",
    "# モデルに提供するToolの定義\n",
    "tools = [\n",
    "    {\n",
    "        \"type\": \"function\",\n",
    "        \"function\": {\n",
    "            \"name\": \"get_weather\",\n",
    "            \"description\": \"指定された場所の天気情報を取得します\",\n",
    "            \"parameters\": {\n",
    "                \"type\": \"object\",\n",
    "                \"properties\": {\n",
    "                    \"location\": {\n",
    "                        \"type\": \"string\",\n",
    "                        \"description\": \"都市名（例: Tokyo）\",\n",
    "                    },\n",
    "                },\n",
    "                \"required\": [\"location\"],\n",
    "            },\n",
    "        },\n",
    "    }\n",
    "]\n",
    "\n",
    "# モデルへの最初のAPIリクエスト\n",
    "response = client.chat.completions.create(\n",
    "    model=\"gpt-4o\",\n",
    "    messages=messages,\n",
    "    temperature=0,\n",
    "    tools=tools,\n",
    "    tool_choice=\"auto\",\n",
    ")\n",
    "\n",
    "# モデルの応答を処理\n",
    "response_message = response.choices[0].message\n",
    "messages.append(response_message)\n",
    "\n",
    "print(\"モデルからの応答:\")\n",
    "print(response_message)\n",
    "\n",
    "# 関数呼び出しを処理\n",
    "if response_message.tool_calls:\n",
    "    for tool_call in response_message.tool_calls:\n",
    "        if tool_call.function.name == \"get_weather\":\n",
    "            function_args = json.loads(tool_call.function.arguments)\n",
    "            print(f\"関数の引数: {function_args}\")\n",
    "            weather_response = get_weather(location=function_args.get(\"location\"))\n",
    "            messages.append(\n",
    "                {\n",
    "                    \"tool_call_id\": tool_call.id,\n",
    "                    \"role\": \"tool\",\n",
    "                    \"name\": \"get_weather\",\n",
    "                    \"content\": weather_response,\n",
    "                }\n",
    "            )\n",
    "else:\n",
    "    print(\"モデルによるツール呼び出しはありませんでした。\")\n",
    "\n",
    "# モデルへの最終的なAPIリクエスト\n",
    "final_response = client.chat.completions.create(\n",
    "    model=\"gpt-4o\",\n",
    "    messages=messages,\n",
    "    temperature=0,\n",
    ")\n",
    "\n",
    "print(\"Final Response:\", final_response.choices[0].message.content)"
   ]
  },
  {
   "cell_type": "markdown",
   "metadata": {},
   "source": [
    "3.4 生成AIエージェントで利用されるTool"
   ]
  },
  {
   "cell_type": "markdown",
   "metadata": {},
   "source": [
    "3.4.1 WEB検索"
   ]
  },
  {
   "cell_type": "code",
   "execution_count": null,
   "metadata": {},
   "outputs": [],
   "source": [
    "from langchain_community.tools.tavily_search import TavilySearchResults\n",
    "\n",
    "tools = [TavilySearchResults(max_results=3), tavily_api_key=os.getenv(\"TAVILY_API_KEY\")]"
   ]
  },
  {
   "cell_type": "code",
   "execution_count": null,
   "metadata": {},
   "outputs": [],
   "source": [
    "from langchain_core.tools import tool\n",
    "from pydantic import BaseModel\n",
    "\n",
    "\n",
    "# 引数スキーマを定義\n",
    "class AddArgs(BaseModel):\n",
    "    a: int\n",
    "    b: int\n",
    "\n",
    "\n",
    "@tool(args_schema=AddArgs)\n",
    "def add(a: int, b: int) -> int:\n",
    "    \"\"\"\n",
    "    このToolは2つの整数を引数として受け取り、それらの合計を返します。\n",
    "\n",
    "    Args:\n",
    "        a (int): 加算する最初の整数。\n",
    "        b (int): 加算する2つ目の整数。\n",
    "\n",
    "    Returns:\n",
    "        int: 2つの整数の合計値。\n",
    "\n",
    "    使用例:\n",
    "        例:\n",
    "            入力: {\"a\": 3, \"b\": 5}\n",
    "            出力: 8\n",
    "    \"\"\"\n",
    "    return a + b\n",
    "\n",
    "\n",
    "# 実行例\n",
    "args = {\"a\": 5, \"b\": 10}\n",
    "result = add.func(**args)  # Toolを呼び出す\n",
    "print(f\"Result: {result}\")  # Result: 15\n",
    "\n",
    "# Toolに関連付けられている属性の確認\n",
    "print(add.name)\n",
    "print(add.description)\n",
    "print(add.args)"
   ]
  },
  {
   "cell_type": "markdown",
   "metadata": {},
   "source": [
    "LangChainを使ったDuckduckgoのカスタムツールの例"
   ]
  },
  {
   "cell_type": "code",
   "execution_count": 10,
   "metadata": {},
   "outputs": [],
   "source": [
    "from duckduckgo_search import DDGS\n",
    "from pydantic import BaseModel, Field\n",
    "from itertools import islice\n",
    "\n",
    "\n",
    "class DDGSearchInput(BaseModel):\n",
    "    \"\"\"検索クエリが文字列であることをバリデーションします。\n",
    "    文字列以外のデータ型の検索入力を受け付けません。\n",
    "    \"\"\"\n",
    "\n",
    "    query: str = Field(description=\"検索キーワードを入力してください\")\n",
    "\n",
    "\n",
    "@tool(args_schema=DDGSearchInput)\n",
    "def duckduckgo_search(query: str, max_result_num: int = 5) -> list[dict[str, str]]:\n",
    "    \"\"\"\n",
    "    このToolはDuckDuckGoを使用してWeb検索を実行します。\n",
    "\n",
    "    機能:\n",
    "        このToolは指定されたキーワード（query）でDuckDuckGo検索を行い、\n",
    "        検索結果から指定した数（max_result_num）までの結果を取得します。\n",
    "        各検索結果にはタイトル、スニペット、およびURLが含まれます。\n",
    "\n",
    "    Args:\n",
    "        query (str): 検索キーワード。\n",
    "        max_result_num (int): 取得する検索結果の最大数。デフォルトは5。\n",
    "\n",
    "    Returns:\n",
    "        List[Dict[str, str]]: 検索結果のリスト。各要素は以下の形式の辞書です:\n",
    "            - \"title\" (str): 検索結果のタイトル。\n",
    "            - \"snippet\" (str): 検索結果のスニペット（概要）。\n",
    "            - \"url\" (str): 検索結果のURL。\n",
    "    \"\"\"\n",
    "    with DDGS() as ddgs:\n",
    "        responce = ddgs.text(query, region=\"jp-jp\", safesearch=\"off\", backend=\"lite\")\n",
    "        return [\n",
    "            {\n",
    "                \"title\": r.get(\"title\", \"\"),\n",
    "                \"snippet\": r.get(\"body\", \"\"),\n",
    "                \"url\": r.get(\"href\", \"\"),\n",
    "            }\n",
    "            for r in islice(responce, max_result_num)\n",
    "        ]"
   ]
  },
  {
   "cell_type": "code",
   "execution_count": null,
   "metadata": {},
   "outputs": [],
   "source": [
    "# HTML取得\n",
    "import requests\n",
    "\n",
    "# DuckDuckGo検索を実行\n",
    "search_query = \"AIエージェント 実践本\"\n",
    "search_results = duckduckgo_search.func(query=search_query, max_result_num=3)\n",
    "\n",
    "# 検索結果を表示\n",
    "print(\"\\n検索結果:\")\n",
    "for i, result in enumerate(search_results):\n",
    "    print(f\"\\n{i + 1}. {result['title']}\")\n",
    "    print(f\"   概要: {result['snippet'][:100]}...\")\n",
    "    print(f\"   URL: {result['url']}\")\n",
    "\n",
    "# 最初の検索結果のURLを取得\n",
    "if search_results:\n",
    "    url = search_results[0][\"url\"]\n",
    "    print(f\"\\n最初の検索結果のURLにアクセスしています: {url}\")\n",
    "\n",
    "    # Webページを取得\n",
    "    try:\n",
    "        response = requests.get(url)\n",
    "        html_content = response.content\n",
    "        print(f\"\\nHTTPステータスコード: {response.status_code}\")\n",
    "        print(f\"\\nHTMLコンテンツの大きさ: {len(html_content)} bytes\")\n",
    "        print(f\"\\nHTMLコンテンツの最初の部分: \\n{html_content[:500]}...\")\n",
    "    except Exception as e:\n",
    "        print(f\"\\nエラーが発生しました: {e}\")\n",
    "else:\n",
    "    print(\"\\n検索結果はありませんでした\")"
   ]
  },
  {
   "cell_type": "markdown",
   "metadata": {},
   "source": [
    "SQLDatabaseChainの使用例"
   ]
  },
  {
   "cell_type": "code",
   "execution_count": null,
   "metadata": {},
   "outputs": [],
   "source": [
    "from langchain_core.tools import tool\n",
    "from pydantic import BaseModel\n",
    "from langchain.chat_models import ChatOpenAI\n",
    "from langchain.sql_database import SQLDatabase\n",
    "from langchain_experimental.sql import SQLDatabaseChain\n",
    "\n",
    "\n",
    "# 引数スキーマを定義\n",
    "class SQLQueryArgs(BaseModel):\n",
    "    keywords: str\n",
    "\n",
    "\n",
    "@tool(args_schema=SQLQueryArgs)\n",
    "def text_to_sql_search(keywords: str):\n",
    "    \"\"\"\n",
    "    自然言語でのクエリをSQLクエリに変換し、SQLデータベースで検索を実行します。\n",
    "\n",
    "    機能:\n",
    "        - このToolは、与えられた自然言語形式のキーワードをもとに、SQLクエリを生成します。\n",
    "        - LLMを使用してSQL文を生成し、PostgreSQLデータベースで検索を実行します。\n",
    "        - 取得した検索結果を返します。\n",
    "\n",
    "    Args:\n",
    "        keywords (str): 実行したいクエリの自然言語キーワード。\n",
    "            例: \"2023年の売上が最大の月を教えてください\"\n",
    "\n",
    "    Returns:\n",
    "        Any: データベース検索結果を返します。\n",
    "    \"\"\"\n",
    "\n",
    "    # PostgreSQLデータベース接続パラメータを設定する\n",
    "    db_url = f\"postgresql+psycopg2://{os.getenv('PGUSER')}:{os.getenv('PGPASSWORD')}@{os.getenv('PGHOST')}:5432/{os.getenv('PGDATABASE')}\"\n",
    "    db = SQLDatabase.from_uri(db_url)\n",
    "\n",
    "    llm = ChatOpenAI(\n",
    "        api_key=os.getenv(\"OPENAI_API_KEY\"),\n",
    "        model_name=\"gpt-4o\",\n",
    "        temperature=0.0,\n",
    "    )\n",
    "\n",
    "    # SQLチェーンの設定\n",
    "    db_chain = SQLDatabaseChain(llm=llm, database=db, verbose=True)\n",
    "\n",
    "    # 実行\n",
    "    response = db_chain.run(keywords)\n",
    "\n",
    "    return response\n",
    "\n",
    "\n",
    "# 実行例\n",
    "args = {\"keywords\": \"employeeテーブルの情報は何件ありますか？\"}\n",
    "response = text_to_sql_search.func(**args)\n",
    "print(response)"
   ]
  },
  {
   "cell_type": "markdown",
   "metadata": {},
   "source": [
    "3.7 LangGraphによるエージェントワークフロー構築"
   ]
  },
  {
   "cell_type": "markdown",
   "metadata": {},
   "source": [
    "3.7.2 エージェントワークフローの構築方法"
   ]
  },
  {
   "cell_type": "markdown",
   "metadata": {},
   "source": [
    "1. 状態（State）とワークフローの初期化"
   ]
  },
  {
   "cell_type": "code",
   "execution_count": 13,
   "metadata": {},
   "outputs": [],
   "source": [
    "# LangGraphでエージェントのワークフローの初期化\n",
    "from typing import TypedDict\n",
    "from langgraph.graph import END, StateGraph, START\n",
    "\n",
    "\n",
    "# ワークフロー前端の状態を記録するためのクラス\n",
    "# 基本的に各ノードにこのクラスが引数に渡される\n",
    "class AgentState(TypedDict):\n",
    "    input: str  # ユーザの入力\n",
    "    plans: list[str]  # 計画ノードの結果\n",
    "    feedbacks: list[str]  # 振り返りノードの結果\n",
    "    output: str  # 生成ノードの結果\n",
    "    iteration: int\n",
    "\n",
    "\n",
    "# Graph全体を定義\n",
    "workflow = StateGraph(AgentState)"
   ]
  },
  {
   "cell_type": "markdown",
   "metadata": {},
   "source": [
    "2. ノードとエッジの設定"
   ]
  },
  {
   "cell_type": "code",
   "execution_count": 14,
   "metadata": {},
   "outputs": [],
   "source": [
    "# LangGraphでエージェントワークフローの構築\n",
    "\n",
    "\n",
    "# 各ノードの処理、エッジでの条件判定関数を定義\n",
    "def plan_node(state: AgentState) -> AgentState:\n",
    "    # 現在の入力に基づいて計画を作成\n",
    "    plan = f\"ブログ記事「{state['input']}」の作成計画:\"\n",
    "    plans = state.get(\"plans\", [])\n",
    "    plans.append(\n",
    "        plan\n",
    "        + \"\\n1. イントロダクション\\n2. LangGraphの基本概念\\n3. シンプルなワークフロー例\\n4. まとめ\"\n",
    "    )\n",
    "\n",
    "    # 状態を更新して返す\n",
    "    return {**state, \"plans\": plans}\n",
    "\n",
    "\n",
    "def generation_node(state: AgentState) -> AgentState:\n",
    "    # 計画に基づいて出力を生成\n",
    "    iteration = state[\"iteration\"]\n",
    "    # イテレーション数を増やす\n",
    "    iteration += 1\n",
    "\n",
    "    # 現在の計画を取得\n",
    "    plan = state[\"plans\"][-1] if state[\"plans\"] else \"計画なし\"\n",
    "\n",
    "    # 出力を生成\n",
    "    output = f\"イテレーション {iteration} の出力:\\n\"\n",
    "    if iteration == 1:\n",
    "        output += \"# LangGraphを用いたエージェントワークフロー構築方法\\n\\n## はじめに\\nLangGraphは、大規模言語モデル(LLM)を使用したエージェントやワークフローを構築するためのフレームワークです。\"\n",
    "    elif iteration == 2:\n",
    "        output += \"## LangGraphの基本概念\\n\\n1. **状態（State）**: ワークフロー全体で共有される情報\\n2. **ノード（Node）**: 処理を行う関数\\n3. **エッジ（Edge）**: ノード間の接続と遷移条件\"\n",
    "    elif iteration == 3:\n",
    "        output += \"## LangGraphの実装例\\n\\n```python\\nimport operator\\nfrom typing import TypedDict, List\\nfrom langgraph.graph import END, StateGraph, START\\n\\nclass AgentState(TypedDict):\\n    input: str\\n    output: str\\n```\"\n",
    "    else:\n",
    "        output += \"## まとめ\\n\\nLangGraphを使うことで、複雑なエージェントの振る舞いを制御しやすくなります。状態管理とワークフローの分離により、メンテナンス性の高いAIアプリケーションが開発可能です。\"\n",
    "\n",
    "    # 状態を更新して返す\n",
    "    return {**state, \"output\": output, \"iteration\": iteration}\n",
    "\n",
    "\n",
    "def reflection_node(state: AgentState) -> AgentState:\n",
    "    # 現在の出力を振り返り、フィードバックを生成\n",
    "    output = state[\"output\"]\n",
    "    feedbacks = state.get(\"feedbacks\", [])\n",
    "\n",
    "    # フィードバックを生成\n",
    "    feedback = f\"フィードバック (イテレーション {state['iteration']}):\\n\"\n",
    "    if state[\"iteration\"] == 1:\n",
    "        feedback += \"イントロダクションは良いですが、もう少し具体的な例やメリットを追加すると良いでしょう。\"\n",
    "    elif state[\"iteration\"] == 2:\n",
    "        feedback += (\n",
    "            \"基本概念の説明は分かりやすいです。次はコード例を加えると良いでしょう。\"\n",
    "        )\n",
    "    elif state[\"iteration\"] == 3:\n",
    "        feedback += \"コード例が示されていますが、もう少し詳しい説明や実行結果があると良いでしょう。\"\n",
    "\n",
    "    feedbacks.append(feedback)\n",
    "\n",
    "    # 状態を更新して返す\n",
    "    return {**state, \"feedbacks\": feedbacks}\n",
    "\n",
    "\n",
    "# 使用するノードを追加。ノード名と対応する関数を書く。名前はこの後も使うので一意である必要がある\n",
    "workflow.add_node(\"planner\", plan_node)\n",
    "workflow.add_node(\"generator\", generation_node)\n",
    "workflow.add_node(\"reflector\", reflection_node)\n",
    "\n",
    "# エントリーポイントを定義。これが最初に呼ばれるノード\n",
    "workflow.add_edge(START, \"planner\")\n",
    "\n",
    "\n",
    "# 条件付きエッジ用の条件。3回イテレーションする\n",
    "def should_continue(state: AgentState):\n",
    "    if state[\"iteration\"] > 3:  # iterationは整数なのでlen()を使わない\n",
    "        # End after 3 iterations\n",
    "        return END\n",
    "    return \"reflector\"\n",
    "\n",
    "\n",
    "# ノードをつなぐエッジを追加\n",
    "workflow.add_edge(\"planner\", \"generator\")\n",
    "workflow.add_conditional_edges(\"generator\", should_continue, [\"reflector\", END])\n",
    "workflow.add_edge(\"reflector\", \"generator\")\n",
    "\n",
    "\n",
    "# 最後にworkflowをコンパイルする。これでLangChainのrunnnableな形式になる\n",
    "# runnnableになることでinvokeやstreamが使用できるようになる\n",
    "app = workflow.compile()"
   ]
  },
  {
   "cell_type": "markdown",
   "metadata": {},
   "source": [
    "3. 実行"
   ]
  },
  {
   "cell_type": "code",
   "execution_count": null,
   "metadata": {},
   "outputs": [],
   "source": [
    "# エージェントのワークフローの実行\n",
    "inputs = {\n",
    "    \"input\": \"LangGraphを用いたエージェントワークフロー構築方法のブログ記事を作成して\",\n",
    "    \"iteration\": 0,  # iterationの初期値を設定\n",
    "    \"plans\": [],  # plansの初期値も設定\n",
    "    \"feedbacks\": [],  # feedbacksの初期値も設定\n",
    "    \"output\": \"\",  # outputの初期値も設定\n",
    "}\n",
    "\n",
    "for s in app.stream(inputs):\n",
    "    print(list(s.values())[0])\n",
    "    print(\"----\")"
   ]
  },
  {
   "cell_type": "code",
   "execution_count": null,
   "metadata": {},
   "outputs": [],
   "source": [
    "from IPython.display import Image, display\n",
    "\n",
    "# mermaidで描画\n",
    "display(Image(app.get_graph().draw_mermaid_png()))"
   ]
  }
 ],
 "metadata": {
  "kernelspec": {
   "display_name": "genai-agent-chapter3",
   "language": "python",
   "name": "python3"
  },
  "language_info": {
   "codemirror_mode": {
    "name": "ipython",
    "version": 3
   },
   "file_extension": ".py",
   "mimetype": "text/x-python",
   "name": "python",
   "nbconvert_exporter": "python",
   "pygments_lexer": "ipython3",
   "version": "3.12.9"
  }
 },
 "nbformat": 4,
 "nbformat_minor": 2
}
